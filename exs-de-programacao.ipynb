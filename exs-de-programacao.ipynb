{
 "cells": [
  {
   "cell_type": "markdown",
   "id": "a5fd78cb",
   "metadata": {},
   "source": [
    "# Exercício de programação 1  \n",
    "* Você está recebendo um arquivo contendo 10.000 números inteiros, um em cada linha. Utilizando lambdas e high order functions, apresente os 5 maiores valores pares e a soma destes. Você deverá aplicar as seguintes funções no exercício:  \n",
    "---    \n",
    "  * map\n",
    "  * filter\n",
    "  * sorted\n",
    "  * sum\n",
    "---  \n",
    "* Seu código deverá exibir na saída (simplesmente utilizando 2 comandos `print()`):\n",
    "---\n",
    " * a lista dos 5 maiores números pares em ordem decrescente;\n",
    " * a soma destes valores.\n",
    "  \n"
   ]
  },
  {
   "cell_type": "code",
   "execution_count": 3,
   "id": "d94e0802",
   "metadata": {},
   "outputs": [
    {
     "name": "stdout",
     "output_type": "stream",
     "text": [
      "[8000, 7998, 7996, 7994, 7994]\n",
      "39982\n"
     ]
    }
   ],
   "source": [
    "with open('number.txt', 'r', encoding='utf-8') as arquivo:\n",
    "    inteiros = list(filter(lambda num: num % 2 == 0, reversed(sorted(list(map(int, arquivo.readlines()))))))[:5]\n",
    "\n",
    "\n",
    "print(inteiros)\n",
    "print(sum(inteiros))\n"
   ]
  },
  {
   "cell_type": "markdown",
   "id": "f654f710",
   "metadata": {},
   "source": [
    "# Exercício de programação 2\n",
    "* Utilizando high order functions, implemente o corpo da função conta_vogais. O parâmetro de entrada será uma string e o resultado deverá ser a contagem de vogais presentes em seu conteúdo. É obrigatório aplicar as seguintes funções:\n",
    "---\n",
    " * len\n",
    " * filter\n",
    " * lambda\n",
    "---\n",
    "* Desconsidere os caracteres acentuados. Eles não serão utilizados nos testes do seu código."
   ]
  },
  {
   "cell_type": "code",
   "execution_count": 8,
   "id": "652aefb8",
   "metadata": {},
   "outputs": [
    {
     "name": "stdout",
     "output_type": "stream",
     "text": [
      "14\n",
      "167\n"
     ]
    }
   ],
   "source": [
    "def conta_vogais(texto: str) -> int:\n",
    "    cont_vogal = list(\n",
    "        filter(lambda p: p if p in 'aeiou' else '', texto.lower()))\n",
    "    return len(cont_vogal)\n",
    "\n",
    "\n",
    "string = conta_vogais(\"Ola mundo, este e um importante teste\")\n",
    "string2 = conta_vogais('Lorem ipsum dolor sit amet, consectetur adipiscing elit, sed do eiusmod tempor incididunt ut labore et\\\n",
    "                       dolore magna aliqua. Ut enim ad minim veniam, quis nostrud exercitation ullamco laboris nisi ut aliquip\\\n",
    "                      ex ea commodo consequat. Duis aute irure dolor in reprehenderit in voluptate velit esse cillum dolore eu\\\n",
    "                      fugiat nulla pariatur. Excepteur sint occaecat cupidatat non proident, sunt in culpa qui officia deserunt\\\n",
    "                      mollit anim id est laborum.')\n",
    "print(string)\n",
    "print(string2)\n"
   ]
  },
  {
   "cell_type": "markdown",
   "id": "81960b00",
   "metadata": {},
   "source": [
    "# Exercício de programação 3\n",
    "* A função calcula_saldo recebe uma lista de tuplas, correspondendo a um conjunto de lançamentos bancários. Cada lançamento é composto pelo seu valor (sempre positivo) e pelo seu tipo (C - crédito ou D - débito). Abaixo apresentando uma possível entrada para a função:\n",
    "---\n",
    "```python  \n",
    "lancamentos = [\n",
    "    (200,'D'),\n",
    "    (300,'C'),\n",
    "    (100,'C')\n",
    "]\n",
    "```\n",
    "---\n",
    "* A partir dos lançamentos, a função deve calcular o valor final, somando créditos e subtraindo débitos. Na lista anterior, por exemplo, teríamos como resultado final 200. Além de utilizar lambdas, você deverá aplicar, obrigatoriamente, as seguintes funções na resolução:\n",
    "---\n",
    "* reduce (módulo functools)\n",
    "* map\n"
   ]
  },
  {
   "cell_type": "code",
   "execution_count": 9,
   "id": "f377f9eb",
   "metadata": {},
   "outputs": [
    {
     "name": "stdout",
     "output_type": "stream",
     "text": [
      "-70\n"
     ]
    }
   ],
   "source": [
    "from functools import reduce\n",
    "\n",
    "\n",
    "def calcula_saldo(lancamentos) -> float:\n",
    "    debito = list(map(lambda a: a[0] if a[1] in 'Dd' else None, lancamentos))\n",
    "    debito_filtrado = [item for item in debito if item is not None]\n",
    "    credito = list(map(lambda a: a[0] if a[1] in 'Cc' else None, lancamentos))\n",
    "    credito_filtrado = [item for item in credito if item is not None]\n",
    "    soma_deb = reduce(lambda acumulador, item: acumulador +\n",
    "                      item, debito_filtrado, 0)\n",
    "    soma_cre = reduce(lambda acumulador, item: acumulador +\n",
    "                      item, credito_filtrado, 0)\n",
    "    return soma_cre - soma_deb\n",
    "\n",
    "\n",
    "lancamentos = [\n",
    "    (10, 'D'),\n",
    "    (300, 'C'),\n",
    "    (20, 'C'),\n",
    "    (80, 'D'),\n",
    "    (300, 'D')\n",
    "]\n",
    "\n",
    "saldo_final = calcula_saldo(lancamentos)\n",
    "print(saldo_final)\n"
   ]
  },
  {
   "cell_type": "markdown",
   "id": "99fc7bb4",
   "metadata": {},
   "source": [
    "# Exercício de programação 4\n",
    "* A função calcular_valor_maximo deve receber dois parâmetros, chamados de operadores e operandos. Em operadores, espera-se uma lista de caracteres que representam as operações matemáticas suportadas (+, -, /, *, %), as quais devem ser aplicadas à lista de operadores nas respectivas posições. Após aplicar cada operação ao respectivo par de operandos, a função deverá retornar o maior valor dentre eles. Veja o exemplo:\n",
    "---\n",
    "* Entrada:\n",
    "```Python\n",
    "operadores = ['+','-','*','/','+']\n",
    "operandos  = [(3,6), (-7,4.9), (8,-8), (10,2), (8,4)]\n",
    "```\n",
    "* Aplicar as operações aos pares de operandos:\n",
    "```Python\n",
    "[ 3+6 , -7-4.9, 8*-8 , 10/2 , 8+4 ] \n",
    "```\n",
    "* Obter o maior dos valores:\n",
    "```Python\n",
    "12\n",
    "```\n",
    "---\n",
    "* Na resolução da atividade você deverá aplicar as seguintes funções:\n",
    "\n",
    "---\n",
    "* max\n",
    "* zip\n",
    "* map\n"
   ]
  },
  {
   "cell_type": "code",
   "execution_count": 10,
   "id": "45ed3893",
   "metadata": {},
   "outputs": [
    {
     "name": "stdout",
     "output_type": "stream",
     "text": [
      "12\n"
     ]
    }
   ],
   "source": [
    "def calcular_valor_maximo(operadores, operandos) -> float:\n",
    "    primeiro_num = list(map(lambda n: n[0], operandos))\n",
    "    segundo_num = list(map(lambda n: n[1], operandos))\n",
    "    lista_operacao = list(zip(primeiro_num, operadores, segundo_num))\n",
    "    lista_calculada = []\n",
    "    for i in lista_operacao:\n",
    "        if i[1] == '+':\n",
    "            lista_calculada.append(i[0] + i[-1])\n",
    "        elif i[1] == '-':\n",
    "            lista_calculada.append(i[0] - i[-1])\n",
    "        elif i[1] == '*':\n",
    "            lista_calculada.append(i[0] * i[-1])\n",
    "        elif i[1] == '/':\n",
    "            lista_calculada.append(i[0] / i[-1])\n",
    "\n",
    "    return max(lista_calculada)\n",
    "\n",
    "operadores = ['+', '-', '*', '/', '+']\n",
    "operandos = [(3, 6), (-7, 4.9), (8, -8), (10, 2), (8, 4)]\n",
    "\n",
    "teste_saida = calcular_valor_maximo(operadores, operandos)\n",
    "print(teste_saida)\n"
   ]
  },
  {
   "cell_type": "markdown",
   "id": "557f279d",
   "metadata": {},
   "source": [
    "# Exercício de programação 5\n",
    "* Um determinado sistema escolar exporta a grade de notas dos estudantes em formato CSV. Cada linha do arquivo corresponde ao nome do estudante, acompanhado de 5 notas de avaliação, no intervalo [0-10]. É o arquivo estudantes.csv de seu exercício. Precisamos processar seu conteúdo, de modo a gerar como saída um relatório em formato textual contendo as seguintes informações:\n",
    "---\n",
    "* Nome do estudante\n",
    "* Três maiores notas, em ordem decrescente\n",
    "* Média das três maiores notas, com duas casas decimais de precisão\n",
    "---\n",
    "* O resultado do processamento deve ser escrito na saída padrão (print), ordenado pelo nome do estudante e obedecendo ao formato descrito a seguir: ``` Nome: <nome estudante> Notas: [n1, n2, n3] Média: <média> ```  \n",
    "Exemplo:\n",
    "```Python\n",
    "Nome: Maria Luiza Correia Notas: [7, 5, 5] Média: 5.67\n",
    "Nome: Maria Mendes Notas: [7, 3, 3] Média: 4.33\n",
    "```\n",
    "* Em seu desenvolvimento você deverá utilizar lambdas e as seguintes funções:\n",
    "---\n",
    "* round\n",
    "* map\n",
    "* sorted"
   ]
  },
  {
   "cell_type": "code",
   "execution_count": 1,
   "id": "9ef0c0c1",
   "metadata": {},
   "outputs": [
    {
     "name": "stdout",
     "output_type": "stream",
     "text": [
      "Nome: Alexandre da Rosa Notas: [10, 10, 8] Média: 9.33\n",
      "Nome: Ana Clara das Neves Notas: [7, 6, 6] Média: 6.33\n",
      "Nome: Ana Gonçalves Notas: [8, 3, 3] Média: 4.67\n",
      "Nome: Ana Julia Cavalcanti Notas: [10, 10, 9] Média: 9.67\n",
      "Nome: Ana Vitória Moraes Notas: [10, 6, 5] Média: 7.0\n",
      "Nome: André Mendes Notas: [6, 4, 4] Média: 4.67\n",
      "Nome: Beatriz Moreira Notas: [6, 4, 3] Média: 4.33\n",
      "Nome: Carolina da Mata Notas: [5, 5, 3] Média: 4.33\n",
      "Nome: Catarina Barros Notas: [10, 4, 3] Média: 5.67\n",
      "Nome: Cauê Fogaça Notas: [10, 5, 5] Média: 6.67\n",
      "Nome: Cecília Costa Notas: [9, 4, 4] Média: 5.67\n",
      "Nome: Clara da Rocha Notas: [9, 9, 7] Média: 8.33\n",
      "Nome: Davi Lucas Gomes Notas: [9, 8, 8] Média: 8.33\n",
      "Nome: Diogo Aragão Notas: [7, 5, 5] Média: 5.67\n",
      "Nome: Dr. Pedro Henrique Rezende Notas: [10, 10, 3] Média: 7.67\n",
      "Nome: Dra. Heloísa Pinto Notas: [8, 6, 5] Média: 6.33\n",
      "Nome: Dra. Laura Pereira Notas: [6, 5, 3] Média: 4.67\n",
      "Nome: Enzo Melo Notas: [10, 10, 6] Média: 8.67\n",
      "Nome: Gabriel Novaes Notas: [10, 10, 8] Média: 9.33\n",
      "Nome: Gabriel da Rosa Notas: [3, 3, 2] Média: 2.67\n",
      "Nome: Heitor Aragão Notas: [6, 6, 5] Média: 5.67\n",
      "Nome: Heitor Martins Notas: [10, 9, 6] Média: 8.33\n",
      "Nome: João Cardoso Notas: [10, 7, 5] Média: 7.33\n",
      "Nome: João Pedro Moura Notas: [5, 3, 3] Média: 3.67\n",
      "Nome: Leandro Rodrigues Notas: [7, 5, 4] Média: 5.33\n",
      "Nome: Letícia Jesus Notas: [6, 5, 5] Média: 5.33\n",
      "Nome: Luigi Pereira Notas: [9, 8, 8] Média: 8.33\n",
      "Nome: Maria Luiza Correia Notas: [7, 5, 5] Média: 5.67\n",
      "Nome: Maria Mendes Notas: [7, 3, 3] Média: 4.33\n",
      "Nome: Nicolas Campos Notas: [10, 8, 7] Média: 8.33\n",
      "Nome: Nina Viana Notas: [10, 9, 6] Média: 8.33\n",
      "Nome: Paulo da Rosa Notas: [5, 5, 5] Média: 5.0\n",
      "Nome: Pedro Castro Notas: [9, 8, 5] Média: 7.33\n",
      "Nome: Pedro Lucas Araújo Notas: [9, 7, 3] Média: 6.33\n",
      "Nome: Rodrigo Jesus Notas: [10, 8, 8] Média: 8.67\n",
      "Nome: Ryan Nascimento Notas: [9, 6, 4] Média: 6.33\n",
      "Nome: Sr. Luiz Otávio Cardoso Notas: [10, 10, 9] Média: 9.67\n",
      "Nome: Sra. Melissa da Cunha Notas: [10, 5, 3] Média: 6.0\n",
      "Nome: Srta. Carolina Almeida Notas: [10, 9, 2] Média: 7.0\n",
      "Nome: Thiago Silveira Notas: [7, 7, 4] Média: 6.0\n"
     ]
    }
   ],
   "source": [
    "import csv\n",
    "\n",
    "with open('estudantes.csv', encoding='utf-8', newline='') as arquivo:\n",
    "    dados = list(csv.reader(arquivo, delimiter=','))\n",
    "\n",
    "lista_inteiros = [[int(n) if n in '12345678910' else n for n in lista] for lista in dados]\n",
    "nomes = list(map(lambda y: y[0], lista_inteiros))\n",
    "tres_maiores = list(map(lambda x: sorted(x[1:], reverse=True)[:3], lista_inteiros))\n",
    "media_maiores = [round(sum(num) / len(num), 2) for num in tres_maiores]\n",
    "ordenacao_nome = sorted(list(zip(nomes, tres_maiores, media_maiores)))\n",
    "\n",
    "for nome, tres_maior, media_maior in ordenacao_nome:\n",
    "    print(f'Nome: {nome} Notas: {tres_maior} Média: {media_maior}')\n"
   ]
  },
  {
   "cell_type": "markdown",
   "id": "5e31160e",
   "metadata": {},
   "source": [
    "# Exercício de programação 6\n",
    "* Você foi encarregado de desenvolver uma nova feature  para um sistema de gestão de supermercados. O analista responsável descreveu o requisito funcional da seguinte forma:  \n",
    "* Para realizar um cálculo de custo, o sistema deverá permitir filtrar um determinado conjunto de produtos, de modo que apenas aqueles cujo valor unitário for superior à média deverão estar presentes no resultado. Vejamos o exemplo:\n",
    "---\n",
    "Conjunto de produtos (entrada):\n",
    "   * Arroz: 4.99\n",
    "   * Feijão: 3.49\n",
    "   * Macarrão: 2.99\n",
    "   * Leite: 3.29\n",
    "   * Pão: 1.99  \n",
    "   \n",
    "Produtos com valor acima da média:\n",
    " * Arroz: 4.99\n",
    " * Feijão: 3.49\n",
    "---\n",
    "* Observe que estamos definindo a assinatura de uma função como parte de sua resposta. Você não pode mudá-la, apenas codificar seu corpo. O parâmetro ```conteudo``` é um dicionário cuja chave contém o nome do produto e o valor, o respectivo preço (ponto flutuante). Observe um exemplo de valor para ```conteudo```:\n",
    "---\n",
    "```python\n",
    "{\n",
    "    \"arroz\": 4.99,\n",
    "    \"feijão\": 3.49,\n",
    "    \"macarrão\": 2.99,\n",
    "    \"leite\": 3.29,\n",
    "    \"pão\": 1.99\n",
    "}\n",
    "```\n",
    "---\n",
    "* O retorno da função obrigatoriamente deve ser uma lista. Cada elemento da lista é uma tupla em que a primeira posição contém o nome do produto e a segunda, o respectivo preço. Veja um exemplo de retorno:\n",
    "---\n",
    "```python\n",
    "[\n",
    " \n",
    "('feijão', 3.49),\n",
    " \n",
    " ('arroz', 4.99)\n",
    " \n",
    "]\n",
    "```\n",
    "---\n",
    "* **Importante:** O retorno da função deve estar ordenado pelo preço do item (ordem crescente)."
   ]
  },
  {
   "cell_type": "code",
   "execution_count": 2,
   "id": "a73d1a37",
   "metadata": {},
   "outputs": [
    {
     "name": "stdout",
     "output_type": "stream",
     "text": [
      "[('feijão', 3.49), ('arroz', 4.99)]\n"
     ]
    }
   ],
   "source": [
    "def maiores_que_media(conteudo:dict)->list:\n",
    "    media = sum([i for i in conteudo.values()]) / len(([i for i in conteudo.values()]))\n",
    "    return sorted(list(filter(lambda item: item[1] >= media, conteudo.items())), key=lambda item: item[1])\n",
    "\n",
    "\n",
    "conteudo = {\n",
    "    \"arroz\": 4.99,\n",
    "    \"feijão\": 3.49,\n",
    "    \"macarrão\": 2.99,\n",
    "    \"leite\": 3.29,\n",
    "    \"pão\": 1.99\n",
    "}\n",
    "\n",
    "teste_saida = maiores_que_media(conteudo)\n",
    "print(teste_saida)\n"
   ]
  },
  {
   "cell_type": "markdown",
   "id": "58e493d2",
   "metadata": {},
   "source": [
    "# Exercício de programação 7\n",
    "* Generators são poderosos recursos da linguagem Python. Neste exercício, você deverá criar o corpo de uma função, cuja assinatura já consta em seu arquivo de início (```def pares_ate(n:int):```). O objetivo da função ```pares_ate``` é retornar um generator para os valores pares no intervalo ```[2,n]``` . Observe que ```n``` representa o valor do parâmetro informado na chamada da função."
   ]
  },
  {
   "cell_type": "code",
   "execution_count": 6,
   "id": "5c0654dd",
   "metadata": {},
   "outputs": [
    {
     "name": "stdout",
     "output_type": "stream",
     "text": [
      "2\n",
      "4\n",
      "6\n",
      "8\n",
      "10\n",
      "12\n",
      "14\n",
      "16\n",
      "18\n",
      "20\n",
      "22\n"
     ]
    }
   ],
   "source": [
    "def pares_ate(n:int):\n",
    "    if n % 2 != 0:\n",
    "        raise TypeError()\n",
    "    pares = 0\n",
    "    while pares < n:\n",
    "        pares += 2\n",
    "        yield pares\n",
    "\n",
    "nums_pares = pares_ate(22)\n",
    "\n",
    "for par in nums_pares:\n",
    "    print(par)"
   ]
  }
 ],
 "metadata": {
  "kernelspec": {
   "display_name": "Python 3 (ipykernel)",
   "language": "python",
   "name": "python3"
  },
  "language_info": {
   "codemirror_mode": {
    "name": "ipython",
    "version": 3
   },
   "file_extension": ".py",
   "mimetype": "text/x-python",
   "name": "python",
   "nbconvert_exporter": "python",
   "pygments_lexer": "ipython3",
   "version": "3.11.7"
  }
 },
 "nbformat": 4,
 "nbformat_minor": 5
}
